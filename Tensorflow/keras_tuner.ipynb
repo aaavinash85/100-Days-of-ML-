{
 "cells": [
  {
   "cell_type": "markdown",
   "metadata": {},
   "source": [
    "# keras tuner"
   ]
  },
  {
   "cell_type": "markdown",
   "metadata": {
    "id": "xHxb-dlhMIzW"
   },
   "source": [
    "## Overview\n",
    "\n",
    "The Keras Tuner is a library that helps you pick the optimal set of hyperparameters for your TensorFlow program. The process of selecting the right set of hyperparameters for your machine learning (ML) application is called *hyperparameter tuning* or *hypertuning*.\n",
    "\n",
    "Hyperparameters are the variables that govern the training process and the topology of an ML model. These variables remain constant over the training process and directly impact the performance of your ML program. Hyperparameters are of two types:\n",
    "1. **Model hyperparameters** which influence model selection such as the number and width of hidden layers\n",
    "2. **Algorithm hyperparameters** which influence the speed and quality of the learning algorithm such as the learning rate for Stochastic Gradient Descent (SGD) and the number of nearest neighbors for a k Nearest Neighbors (KNN) classifier\n",
    "\n",
    "In this tutorial, you will use the Keras Tuner to perform hypertuning for an image classification application."
   ]
  },
  {
   "cell_type": "markdown",
   "metadata": {
    "id": "MUXex9ctTuDB"
   },
   "source": [
    "## Setup"
   ]
  },
  {
   "cell_type": "code",
   "execution_count": 2,
   "metadata": {
    "execution": {
     "iopub.execute_input": "2021-02-12T02:21:38.417871Z",
     "iopub.status.busy": "2021-02-12T02:21:38.417190Z",
     "iopub.status.idle": "2021-02-12T02:21:45.561232Z",
     "shell.execute_reply": "2021-02-12T02:21:45.561699Z"
    },
    "id": "IqR2PQG4ZaZ0"
   },
   "outputs": [],
   "source": [
    "import tensorflow as tf\n",
    "from tensorflow import keras"
   ]
  },
  {
   "cell_type": "markdown",
   "metadata": {
    "id": "g83Lwsy-Aq2_"
   },
   "source": [
    "Install and import the Keras Tuner."
   ]
  },
  {
   "cell_type": "code",
   "execution_count": 3,
   "metadata": {
    "execution": {
     "iopub.execute_input": "2021-02-12T02:21:45.571734Z",
     "iopub.status.busy": "2021-02-12T02:21:45.565930Z",
     "iopub.status.idle": "2021-02-12T02:21:49.934288Z",
     "shell.execute_reply": "2021-02-12T02:21:49.933684Z"
    },
    "id": "hpMLpbt9jcO6"
   },
   "outputs": [],
   "source": [
    "!pip install -q -U keras-tuner"
   ]
  },
  {
   "cell_type": "code",
   "execution_count": 4,
   "metadata": {
    "execution": {
     "iopub.execute_input": "2021-02-12T02:21:49.939095Z",
     "iopub.status.busy": "2021-02-12T02:21:49.938364Z",
     "iopub.status.idle": "2021-02-12T02:21:50.531266Z",
     "shell.execute_reply": "2021-02-12T02:21:50.530688Z"
    },
    "id": "_leAIdFKAxAD"
   },
   "outputs": [],
   "source": [
    "import kerastuner as kt"
   ]
  },
  {
   "cell_type": "markdown",
   "metadata": {
    "id": "ReV_UXOgCZvx"
   },
   "source": [
    "## Download and prepare the dataset\n",
    "\n",
    "In this tutorial, you will use the Keras Tuner to find the best hyperparameters for a machine learning model that classifies images of clothing from the [Fashion MNIST dataset](https://github.com/zalandoresearch/fashion-mnist)."
   ]
  },
  {
   "cell_type": "markdown",
   "metadata": {
    "id": "HljH_ENLEdHa"
   },
   "source": [
    "Load the data."
   ]
  },
  {
   "cell_type": "code",
   "execution_count": 5,
   "metadata": {
    "execution": {
     "iopub.execute_input": "2021-02-12T02:21:50.536288Z",
     "iopub.status.busy": "2021-02-12T02:21:50.535572Z",
     "iopub.status.idle": "2021-02-12T02:21:52.176992Z",
     "shell.execute_reply": "2021-02-12T02:21:52.177530Z"
    },
    "id": "OHlHs9Wj_PUM"
   },
   "outputs": [
    {
     "name": "stdout",
     "output_type": "stream",
     "text": [
      "Downloading data from https://storage.googleapis.com/tensorflow/tf-keras-datasets/train-labels-idx1-ubyte.gz\n",
      "32768/29515 [=================================] - 0s 0us/step\n",
      "Downloading data from https://storage.googleapis.com/tensorflow/tf-keras-datasets/train-images-idx3-ubyte.gz\n",
      "26427392/26421880 [==============================] - 0s 0us/step\n",
      "Downloading data from https://storage.googleapis.com/tensorflow/tf-keras-datasets/t10k-labels-idx1-ubyte.gz\n",
      "8192/5148 [===============================================] - 0s 0us/step\n",
      "Downloading data from https://storage.googleapis.com/tensorflow/tf-keras-datasets/t10k-images-idx3-ubyte.gz\n",
      "4423680/4422102 [==============================] - 0s 0us/step\n"
     ]
    }
   ],
   "source": [
    "(img_train, label_train), (img_test, label_test) = keras.datasets.fashion_mnist.load_data()"
   ]
  },
  {
   "cell_type": "code",
   "execution_count": 6,
   "metadata": {
    "execution": {
     "iopub.execute_input": "2021-02-12T02:21:52.182163Z",
     "iopub.status.busy": "2021-02-12T02:21:52.181452Z",
     "iopub.status.idle": "2021-02-12T02:21:52.264091Z",
     "shell.execute_reply": "2021-02-12T02:21:52.263390Z"
    },
    "id": "bLVhXs3xrUD0"
   },
   "outputs": [],
   "source": [
    "# Normalize pixel values between 0 and 1\n",
    "img_train = img_train.astype('float32') / 255.0\n",
    "img_test = img_test.astype('float32') / 255.0"
   ]
  },
  {
   "cell_type": "markdown",
   "metadata": {
    "id": "K5YEL2H2Ax3e"
   },
   "source": [
    "## Define the model\n",
    "\n",
    "When you build a model for hypertuning, you also define the hyperparameter search space in addition to the model architecture. The model you set up for hypertuning is called a *hypermodel*.\n",
    "\n",
    "You can define a hypermodel through two approaches:\n",
    "\n",
    "* By using a model builder function\n",
    "* By subclassing the `HyperModel` class of the Keras Tuner API\n",
    "\n",
    "You can also use two pre-defined `HyperModel` classes - [HyperXception](https://keras-team.github.io/keras-tuner/documentation/hypermodels/#hyperxception-class) and [HyperResNet](https://keras-team.github.io/keras-tuner/documentation/hypermodels/#hyperresnet-class) for computer vision applications.\n",
    "\n",
    "In this tutorial, you use a model builder function to define the image classification model. The model builder function returns a compiled model and uses hyperparameters you define inline to hypertune the model."
   ]
  },
  {
   "cell_type": "code",
   "execution_count": 7,
   "metadata": {
    "execution": {
     "iopub.execute_input": "2021-02-12T02:21:52.271454Z",
     "iopub.status.busy": "2021-02-12T02:21:52.270668Z",
     "iopub.status.idle": "2021-02-12T02:21:52.272581Z",
     "shell.execute_reply": "2021-02-12T02:21:52.272985Z"
    },
    "id": "ZQKodC-jtsva"
   },
   "outputs": [],
   "source": [
    "def model_builder(hp):\n",
    "  model = keras.Sequential()\n",
    "  model.add(keras.layers.Flatten(input_shape=(28, 28)))\n",
    "\n",
    "  # Tune the number of units in the first Dense layer\n",
    "  # Choose an optimal value between 32-512\n",
    "  hp_units = hp.Int('units', min_value=32, max_value=512, step=32)\n",
    "  model.add(keras.layers.Dense(units=hp_units, activation='relu'))\n",
    "  model.add(keras.layers.Dense(10))\n",
    "\n",
    "  # Tune the learning rate for the optimizer\n",
    "  # Choose an optimal value from 0.01, 0.001, or 0.0001\n",
    "  hp_learning_rate = hp.Choice('learning_rate', values=[1e-2, 1e-3, 1e-4])\n",
    "\n",
    "  model.compile(optimizer=keras.optimizers.Adam(learning_rate=hp_learning_rate),\n",
    "                loss=keras.losses.SparseCategoricalCrossentropy(from_logits=True),\n",
    "                metrics=['accuracy'])\n",
    "\n",
    "  return model"
   ]
  },
  {
   "cell_type": "markdown",
   "metadata": {
    "id": "0J1VYw4q3x0b"
   },
   "source": [
    "## Instantiate the tuner and perform hypertuning\n",
    "\n",
    "Instantiate the tuner to perform the hypertuning. The Keras Tuner has four tuners available - `RandomSearch`, `Hyperband`, `BayesianOptimization`, and `Sklearn`. In this tutorial, you use the [Hyperband](https://arxiv.org/pdf/1603.06560.pdf) tuner.\n",
    "\n",
    "To instantiate the Hyperband tuner, you must specify the hypermodel, the `objective` to optimize and the maximum number of epochs to train (`max_epochs`)."
   ]
  },
  {
   "cell_type": "code",
   "execution_count": 8,
   "metadata": {
    "execution": {
     "iopub.execute_input": "2021-02-12T02:21:52.278345Z",
     "iopub.status.busy": "2021-02-12T02:21:52.277656Z",
     "iopub.status.idle": "2021-02-12T02:22:02.091035Z",
     "shell.execute_reply": "2021-02-12T02:22:02.091543Z"
    },
    "id": "oichQFly6Y46"
   },
   "outputs": [],
   "source": [
    "tuner = kt.Hyperband(model_builder,\n",
    "                     objective='val_accuracy',\n",
    "                     max_epochs=10,\n",
    "                     factor=3,\n",
    "                     directory='my_dir',\n",
    "                     project_name='intro_to_kt')"
   ]
  },
  {
   "cell_type": "markdown",
   "metadata": {
    "id": "VaIhhdKf9VtI"
   },
   "source": [
    "The Hyperband tuning algorithm uses adaptive resource allocation and early-stopping to quickly converge on a high-performing model. This is done using a sports championship style bracket. The algorithm trains a large number of models for a few epochs and carries forward only the top-performing half of models to the next round. Hyperband determines the number of models to train in a bracket by computing 1 + log<sub>`factor`</sub>(`max_epochs`) and rounding it up to the nearest integer."
   ]
  },
  {
   "cell_type": "markdown",
   "metadata": {
    "id": "cwhBdXx0Ekj8"
   },
   "source": [
    "Create a callback to stop training early after reaching a certain value for the validation loss."
   ]
  },
  {
   "cell_type": "code",
   "execution_count": 9,
   "metadata": {
    "execution": {
     "iopub.execute_input": "2021-02-12T02:22:02.097146Z",
     "iopub.status.busy": "2021-02-12T02:22:02.096286Z",
     "iopub.status.idle": "2021-02-12T02:22:02.098663Z",
     "shell.execute_reply": "2021-02-12T02:22:02.098110Z"
    },
    "id": "WT9IkS9NEjLc"
   },
   "outputs": [],
   "source": [
    "stop_early = tf.keras.callbacks.EarlyStopping(monitor='val_loss', patience=5)"
   ]
  },
  {
   "cell_type": "markdown",
   "metadata": {
    "id": "UKghEo15Tduy"
   },
   "source": [
    "Run the hyperparameter search. The arguments for the search method are the same as those used for `tf.keras.model.fit` in addition to the callback above."
   ]
  },
  {
   "cell_type": "code",
   "execution_count": 10,
   "metadata": {
    "execution": {
     "iopub.execute_input": "2021-02-12T02:22:02.104665Z",
     "iopub.status.busy": "2021-02-12T02:22:02.103980Z",
     "iopub.status.idle": "2021-02-12T02:28:06.649806Z",
     "shell.execute_reply": "2021-02-12T02:28:06.650229Z"
    },
    "id": "dSBQcTHF9cKt"
   },
   "outputs": [
    {
     "name": "stdout",
     "output_type": "stream",
     "text": [
      "Trial 30 Complete [00h 00m 28s]\n",
      "val_accuracy: 0.8944166898727417\n",
      "\n",
      "Best val_accuracy So Far: 0.8944166898727417\n",
      "Total elapsed time: 00h 06m 04s\n",
      "INFO:tensorflow:Oracle triggered exit\n",
      "\n",
      "The hyperparameter search is complete. The optimal number of units in the first densely-connected\n",
      "layer is 512 and the optimal learning rate for the optimizer\n",
      "is 0.001.\n",
      "\n"
     ]
    }
   ],
   "source": [
    "tuner.search(img_train, label_train, epochs=50, validation_split=0.2, callbacks=[stop_early])\n",
    "\n",
    "# Get the optimal hyperparameters\n",
    "best_hps=tuner.get_best_hyperparameters(num_trials=1)[0]\n",
    "\n",
    "print(f\"\"\"\n",
    "The hyperparameter search is complete. The optimal number of units in the first densely-connected\n",
    "layer is {best_hps.get('units')} and the optimal learning rate for the optimizer\n",
    "is {best_hps.get('learning_rate')}.\n",
    "\"\"\")"
   ]
  },
  {
   "cell_type": "markdown",
   "metadata": {
    "id": "Lak_ylf88xBv"
   },
   "source": [
    "## Train the model\n",
    "\n",
    "Find the optimal number of epochs to train the model with the hyperparameters obtained from the search."
   ]
  },
  {
   "cell_type": "code",
   "execution_count": 11,
   "metadata": {
    "execution": {
     "iopub.execute_input": "2021-02-12T02:28:06.656169Z",
     "iopub.status.busy": "2021-02-12T02:28:06.655481Z",
     "iopub.status.idle": "2021-02-12T02:30:24.310039Z",
     "shell.execute_reply": "2021-02-12T02:30:24.309493Z"
    },
    "id": "McO82AXOuxXh"
   },
   "outputs": [
    {
     "name": "stdout",
     "output_type": "stream",
     "text": [
      "Epoch 1/50\n",
      "1500/1500 [==============================] - 3s 2ms/step - loss: 0.6147 - accuracy: 0.7839 - val_loss: 0.4014 - val_accuracy: 0.8539\n",
      "Epoch 2/50\n",
      "1500/1500 [==============================] - 3s 2ms/step - loss: 0.3753 - accuracy: 0.8655 - val_loss: 0.3886 - val_accuracy: 0.8607\n",
      "Epoch 3/50\n",
      "1500/1500 [==============================] - 3s 2ms/step - loss: 0.3298 - accuracy: 0.8782 - val_loss: 0.3729 - val_accuracy: 0.8648\n",
      "Epoch 4/50\n",
      "1500/1500 [==============================] - 3s 2ms/step - loss: 0.3069 - accuracy: 0.8860 - val_loss: 0.3373 - val_accuracy: 0.8801\n",
      "Epoch 5/50\n",
      "1500/1500 [==============================] - 3s 2ms/step - loss: 0.2812 - accuracy: 0.8933 - val_loss: 0.3202 - val_accuracy: 0.8818\n",
      "Epoch 6/50\n",
      "1500/1500 [==============================] - 3s 2ms/step - loss: 0.2664 - accuracy: 0.8997 - val_loss: 0.3141 - val_accuracy: 0.8860\n",
      "Epoch 7/50\n",
      "1500/1500 [==============================] - 3s 2ms/step - loss: 0.2533 - accuracy: 0.9065 - val_loss: 0.3128 - val_accuracy: 0.8892\n",
      "Epoch 8/50\n",
      "1500/1500 [==============================] - 3s 2ms/step - loss: 0.2371 - accuracy: 0.9128 - val_loss: 0.3160 - val_accuracy: 0.8869\n",
      "Epoch 9/50\n",
      "1500/1500 [==============================] - 3s 2ms/step - loss: 0.2314 - accuracy: 0.9126 - val_loss: 0.3332 - val_accuracy: 0.8851\n",
      "Epoch 10/50\n",
      "1500/1500 [==============================] - 3s 2ms/step - loss: 0.2191 - accuracy: 0.9193 - val_loss: 0.3214 - val_accuracy: 0.8888\n",
      "Epoch 11/50\n",
      "1500/1500 [==============================] - 3s 2ms/step - loss: 0.2098 - accuracy: 0.9196 - val_loss: 0.3183 - val_accuracy: 0.8910\n",
      "Epoch 12/50\n",
      "1500/1500 [==============================] - 3s 2ms/step - loss: 0.2031 - accuracy: 0.9228 - val_loss: 0.3313 - val_accuracy: 0.8890\n",
      "Epoch 13/50\n",
      "1500/1500 [==============================] - 3s 2ms/step - loss: 0.1941 - accuracy: 0.9270 - val_loss: 0.3168 - val_accuracy: 0.8978\n",
      "Epoch 14/50\n",
      "1500/1500 [==============================] - 3s 2ms/step - loss: 0.1863 - accuracy: 0.9287 - val_loss: 0.3478 - val_accuracy: 0.8848\n",
      "Epoch 15/50\n",
      "1500/1500 [==============================] - 3s 2ms/step - loss: 0.1802 - accuracy: 0.9330 - val_loss: 0.3293 - val_accuracy: 0.8917\n",
      "Epoch 16/50\n",
      "1500/1500 [==============================] - 3s 2ms/step - loss: 0.1731 - accuracy: 0.9347 - val_loss: 0.3107 - val_accuracy: 0.8964\n",
      "Epoch 17/50\n",
      "1500/1500 [==============================] - 3s 2ms/step - loss: 0.1677 - accuracy: 0.9380 - val_loss: 0.3352 - val_accuracy: 0.8948\n",
      "Epoch 18/50\n",
      "1500/1500 [==============================] - 3s 2ms/step - loss: 0.1641 - accuracy: 0.9391 - val_loss: 0.3322 - val_accuracy: 0.8956\n",
      "Epoch 19/50\n",
      "1500/1500 [==============================] - 3s 2ms/step - loss: 0.1557 - accuracy: 0.9412 - val_loss: 0.3569 - val_accuracy: 0.8872\n",
      "Epoch 20/50\n",
      "1500/1500 [==============================] - 3s 2ms/step - loss: 0.1563 - accuracy: 0.9416 - val_loss: 0.3801 - val_accuracy: 0.8880\n",
      "Epoch 21/50\n",
      "1500/1500 [==============================] - 3s 2ms/step - loss: 0.1521 - accuracy: 0.9416 - val_loss: 0.3584 - val_accuracy: 0.8926\n",
      "Epoch 22/50\n",
      "1500/1500 [==============================] - 3s 2ms/step - loss: 0.1456 - accuracy: 0.9456 - val_loss: 0.3616 - val_accuracy: 0.8913\n",
      "Epoch 23/50\n",
      "1500/1500 [==============================] - 3s 2ms/step - loss: 0.1372 - accuracy: 0.9503 - val_loss: 0.3891 - val_accuracy: 0.8910\n",
      "Epoch 24/50\n",
      "1500/1500 [==============================] - 3s 2ms/step - loss: 0.1355 - accuracy: 0.9502 - val_loss: 0.3693 - val_accuracy: 0.8928\n",
      "Epoch 25/50\n",
      "1500/1500 [==============================] - 3s 2ms/step - loss: 0.1313 - accuracy: 0.9505 - val_loss: 0.3668 - val_accuracy: 0.8902\n",
      "Epoch 26/50\n",
      "1500/1500 [==============================] - 3s 2ms/step - loss: 0.1304 - accuracy: 0.9509 - val_loss: 0.3967 - val_accuracy: 0.8947\n",
      "Epoch 27/50\n",
      "1500/1500 [==============================] - 3s 2ms/step - loss: 0.1230 - accuracy: 0.9526 - val_loss: 0.3865 - val_accuracy: 0.8936\n",
      "Epoch 28/50\n",
      "1500/1500 [==============================] - 3s 2ms/step - loss: 0.1193 - accuracy: 0.9553 - val_loss: 0.3736 - val_accuracy: 0.8949\n",
      "Epoch 29/50\n",
      "1500/1500 [==============================] - 3s 2ms/step - loss: 0.1181 - accuracy: 0.9545 - val_loss: 0.3967 - val_accuracy: 0.8893\n",
      "Epoch 30/50\n",
      "1500/1500 [==============================] - 3s 2ms/step - loss: 0.1102 - accuracy: 0.9597 - val_loss: 0.4002 - val_accuracy: 0.8932\n",
      "Epoch 31/50\n",
      "1500/1500 [==============================] - 3s 2ms/step - loss: 0.1067 - accuracy: 0.9591 - val_loss: 0.4335 - val_accuracy: 0.8901\n",
      "Epoch 32/50\n",
      "1500/1500 [==============================] - 3s 2ms/step - loss: 0.1090 - accuracy: 0.9573 - val_loss: 0.4269 - val_accuracy: 0.8873\n",
      "Epoch 33/50\n",
      "1500/1500 [==============================] - 3s 2ms/step - loss: 0.1030 - accuracy: 0.9614 - val_loss: 0.4296 - val_accuracy: 0.8967\n",
      "Epoch 34/50\n",
      "1500/1500 [==============================] - 3s 2ms/step - loss: 0.1009 - accuracy: 0.9628 - val_loss: 0.4441 - val_accuracy: 0.8929\n",
      "Epoch 35/50\n",
      "1500/1500 [==============================] - 3s 2ms/step - loss: 0.1014 - accuracy: 0.9613 - val_loss: 0.4328 - val_accuracy: 0.8938\n",
      "Epoch 36/50\n",
      "1500/1500 [==============================] - 3s 2ms/step - loss: 0.0919 - accuracy: 0.9663 - val_loss: 0.4594 - val_accuracy: 0.8921\n",
      "Epoch 37/50\n",
      "1500/1500 [==============================] - 3s 2ms/step - loss: 0.0943 - accuracy: 0.9622 - val_loss: 0.4475 - val_accuracy: 0.8932\n",
      "Epoch 38/50\n",
      "1500/1500 [==============================] - 3s 2ms/step - loss: 0.0934 - accuracy: 0.9644 - val_loss: 0.4752 - val_accuracy: 0.8881\n",
      "Epoch 39/50\n",
      "1500/1500 [==============================] - 3s 2ms/step - loss: 0.0916 - accuracy: 0.9654 - val_loss: 0.4608 - val_accuracy: 0.8952\n",
      "Epoch 40/50\n",
      "1500/1500 [==============================] - 3s 2ms/step - loss: 0.0895 - accuracy: 0.9660 - val_loss: 0.4657 - val_accuracy: 0.8931\n",
      "Epoch 41/50\n",
      "1500/1500 [==============================] - 3s 2ms/step - loss: 0.0847 - accuracy: 0.9682 - val_loss: 0.4825 - val_accuracy: 0.8963\n",
      "Epoch 42/50\n",
      "1500/1500 [==============================] - 3s 2ms/step - loss: 0.0863 - accuracy: 0.9674 - val_loss: 0.4713 - val_accuracy: 0.8969\n",
      "Epoch 43/50\n",
      "1500/1500 [==============================] - 3s 2ms/step - loss: 0.0752 - accuracy: 0.9719 - val_loss: 0.5424 - val_accuracy: 0.8921\n",
      "Epoch 44/50\n",
      "1500/1500 [==============================] - 3s 2ms/step - loss: 0.0835 - accuracy: 0.9681 - val_loss: 0.5176 - val_accuracy: 0.8925\n",
      "Epoch 45/50\n",
      "1500/1500 [==============================] - 3s 2ms/step - loss: 0.0820 - accuracy: 0.9689 - val_loss: 0.5032 - val_accuracy: 0.8967\n",
      "Epoch 46/50\n",
      "1500/1500 [==============================] - 3s 2ms/step - loss: 0.0744 - accuracy: 0.9711 - val_loss: 0.5074 - val_accuracy: 0.8966\n",
      "Epoch 47/50\n",
      "1500/1500 [==============================] - 3s 2ms/step - loss: 0.0749 - accuracy: 0.9716 - val_loss: 0.5197 - val_accuracy: 0.8945\n",
      "Epoch 48/50\n",
      "1500/1500 [==============================] - 3s 2ms/step - loss: 0.0716 - accuracy: 0.9721 - val_loss: 0.5163 - val_accuracy: 0.8939\n",
      "Epoch 49/50\n",
      "1500/1500 [==============================] - 3s 2ms/step - loss: 0.0760 - accuracy: 0.9726 - val_loss: 0.5215 - val_accuracy: 0.8957\n",
      "Epoch 50/50\n",
      "1500/1500 [==============================] - 3s 2ms/step - loss: 0.0728 - accuracy: 0.9728 - val_loss: 0.5511 - val_accuracy: 0.8934\n",
      "Best epoch: 13\n"
     ]
    }
   ],
   "source": [
    "# Build the model with the optimal hyperparameters and train it on the data for 50 epochs\n",
    "model = tuner.hypermodel.build(best_hps)\n",
    "history = model.fit(img_train, label_train, epochs=50, validation_split=0.2)\n",
    "\n",
    "val_acc_per_epoch = history.history['val_accuracy']\n",
    "best_epoch = val_acc_per_epoch.index(max(val_acc_per_epoch)) + 1\n",
    "print('Best epoch: %d' % (best_epoch,))"
   ]
  },
  {
   "cell_type": "markdown",
   "metadata": {
    "id": "uOTSirSTI3Gp"
   },
   "source": [
    "Re-instantiate the hypermodel and train it with the optimal number of epochs from above."
   ]
  },
  {
   "cell_type": "code",
   "execution_count": 12,
   "metadata": {
    "execution": {
     "iopub.execute_input": "2021-02-12T02:30:24.315467Z",
     "iopub.status.busy": "2021-02-12T02:30:24.314792Z",
     "iopub.status.idle": "2021-02-12T02:30:32.067394Z",
     "shell.execute_reply": "2021-02-12T02:30:32.067859Z"
    },
    "id": "NoiPUEHmMhCe"
   },
   "outputs": [
    {
     "name": "stdout",
     "output_type": "stream",
     "text": [
      "Epoch 1/13\n",
      "313/313 [==============================] - 1s 2ms/step - loss: 0.9074 - accuracy: 0.6859\n",
      "Epoch 2/13\n",
      "313/313 [==============================] - 1s 2ms/step - loss: 0.5113 - accuracy: 0.8173\n",
      "Epoch 3/13\n",
      "313/313 [==============================] - 1s 2ms/step - loss: 0.4458 - accuracy: 0.8333\n",
      "Epoch 4/13\n",
      "313/313 [==============================] - 1s 2ms/step - loss: 0.3891 - accuracy: 0.8620\n",
      "Epoch 5/13\n",
      "313/313 [==============================] - 1s 2ms/step - loss: 0.3666 - accuracy: 0.8620\n",
      "Epoch 6/13\n",
      "313/313 [==============================] - 1s 2ms/step - loss: 0.3559 - accuracy: 0.8717\n",
      "Epoch 7/13\n",
      "313/313 [==============================] - 1s 2ms/step - loss: 0.3366 - accuracy: 0.8733\n",
      "Epoch 8/13\n",
      "313/313 [==============================] - 1s 2ms/step - loss: 0.3138 - accuracy: 0.8820\n",
      "Epoch 9/13\n",
      "313/313 [==============================] - 1s 2ms/step - loss: 0.2926 - accuracy: 0.8904\n",
      "Epoch 10/13\n",
      "313/313 [==============================] - 1s 2ms/step - loss: 0.2771 - accuracy: 0.8947\n",
      "Epoch 11/13\n",
      "313/313 [==============================] - 1s 2ms/step - loss: 0.2601 - accuracy: 0.9022\n",
      "Epoch 12/13\n",
      "313/313 [==============================] - 1s 2ms/step - loss: 0.2391 - accuracy: 0.9140\n",
      "Epoch 13/13\n",
      "313/313 [==============================] - 1s 2ms/step - loss: 0.2434 - accuracy: 0.9069\n"
     ]
    },
    {
     "data": {
      "text/plain": [
       "<tensorflow.python.keras.callbacks.History at 0x7fcc08667be0>"
      ]
     },
     "execution_count": 1,
     "metadata": {},
     "output_type": "execute_result"
    }
   ],
   "source": [
    "hypermodel = tuner.hypermodel.build(best_hps)\n",
    "\n",
    "# Retrain the model\n",
    "hypermodel.fit(img_test, label_test, epochs=best_epoch)"
   ]
  },
  {
   "cell_type": "markdown",
   "metadata": {
    "id": "MqU5ZVAaag2v"
   },
   "source": [
    "To finish this tutorial, evaluate the hypermodel on the test data."
   ]
  },
  {
   "cell_type": "code",
   "execution_count": 13,
   "metadata": {
    "execution": {
     "iopub.execute_input": "2021-02-12T02:30:32.072338Z",
     "iopub.status.busy": "2021-02-12T02:30:32.071672Z",
     "iopub.status.idle": "2021-02-12T02:30:32.696281Z",
     "shell.execute_reply": "2021-02-12T02:30:32.695783Z"
    },
    "id": "9E0BTp9Ealjb"
   },
   "outputs": [
    {
     "name": "stdout",
     "output_type": "stream",
     "text": [
      "313/313 [==============================] - 1s 2ms/step - loss: 0.2313 - accuracy: 0.9147\n",
      "[test loss, test accuracy]: [0.23128622770309448, 0.9146999716758728]\n"
     ]
    }
   ],
   "source": [
    "eval_result = hypermodel.evaluate(img_test, label_test)\n",
    "print(\"[test loss, test accuracy]:\", eval_result)"
   ]
  }
 ],
 "metadata": {
  "colab": {
   "collapsed_sections": [
    "Tce3stUlHN0L"
   ],
   "name": "keras_tuner.ipynb",
   "provenance": [],
   "toc_visible": true
  },
  "kernelspec": {
   "display_name": "Python 3",
   "language": "python",
   "name": "python3"
  },
  "language_info": {
   "codemirror_mode": {
    "name": "ipython",
    "version": 3
   },
   "file_extension": ".py",
   "mimetype": "text/x-python",
   "name": "python",
   "nbconvert_exporter": "python",
   "pygments_lexer": "ipython3",
   "version": "3.8.5"
  }
 },
 "nbformat": 4,
 "nbformat_minor": 1
}
